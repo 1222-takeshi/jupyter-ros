{
 "cells": [
  {
   "cell_type": "code",
   "execution_count": null,
   "id": "3b12ee9d",
   "metadata": {},
   "outputs": [],
   "source": [
    "%load_ext autoreload\n",
    "%autoreload 2"
   ]
  },
  {
   "cell_type": "code",
   "execution_count": null,
   "id": "7259a8b6",
   "metadata": {},
   "outputs": [],
   "source": [
    "import jupyros\n",
    "import rospy\n",
    "import math\n",
    "from turtlesim.srv import Spawn\n",
    "from turtlesim.msg import Pose\n",
    "from time import time"
   ]
  },
  {
   "cell_type": "code",
   "execution_count": null,
   "id": "e2d89970",
   "metadata": {},
   "outputs": [],
   "source": [
    "rospy.init_node(\"superturtle\")"
   ]
  },
  {
   "cell_type": "markdown",
   "id": "fdc0622f",
   "metadata": {},
   "source": [
    "# Turtlesim"
   ]
  },
  {
   "cell_type": "code",
   "execution_count": null,
   "id": "0b94e2ad",
   "metadata": {},
   "outputs": [],
   "source": [
    "# !rosrun turtlesim turtlesim_node\n",
    "# !rosrun turtlesim turtle_teleop_key"
   ]
  },
  {
   "cell_type": "code",
   "execution_count": null,
   "id": "2dbf024d",
   "metadata": {},
   "outputs": [],
   "source": [
    "turtlesim = jupyros.TurtleWidget()\n",
    "display(turtlesim.canvas)"
   ]
  },
  {
   "cell_type": "code",
   "execution_count": null,
   "id": "22c83e64-4e97-4eb5-83a1-c2c6c3946955",
   "metadata": {},
   "outputs": [],
   "source": [
    "# Canvas default size is 1600x1600 starting from top-left corner\n",
    "turtlesim.spawn(name=\"simon\", pose={\"x\": 600, \"y\": 350, \"theta\": 20})"
   ]
  },
  {
   "cell_type": "code",
   "execution_count": null,
   "id": "8d8d6d5f-1c60-4fa0-b375-293bb13862a6",
   "metadata": {},
   "outputs": [],
   "source": [
    "# Turtles need a certain amount of time to spawn\n",
    "turtlesim.spawn(pose={\"x\": 1050, \"y\": 1250, \"theta\": 90})"
   ]
  },
  {
   "cell_type": "code",
   "execution_count": null,
   "id": "d5f4de82-ca93-4c2d-aa28-db35ff43a5f8",
   "metadata": {},
   "outputs": [],
   "source": [
    "# Change the turtle path color\n",
    "turtlesim.turtles[\"turtle1\"].path_color = \"#BF0059\""
   ]
  },
  {
   "cell_type": "markdown",
   "id": "ac91211f",
   "metadata": {},
   "source": [
    "### Subscriber"
   ]
  },
  {
   "cell_type": "code",
   "execution_count": null,
   "id": "cd2e66dc",
   "metadata": {},
   "outputs": [],
   "source": [
    "topic_name = '/turtle1/pose'\n",
    "\n",
    "# Based on the dimensions of window controlled by teleop keyboard\n",
    "def convert_xy_units(x, y):\n",
    "    convert_factor = 11.08\n",
    "    x_convert = x / convert_factor * turtlesim.canvas.width\n",
    "    y_convert = (convert_factor - y) / convert_factor * turtlesim.canvas.height\n",
    "    \n",
    "    return x_convert, y_convert\n",
    "\n",
    "def callback_move_turtle(msg):\n",
    "    elapsed_time = time() - turtlesim.last_move_time\n",
    "\n",
    "    if elapsed_time > 0.1:\n",
    "        x, y = convert_xy_units(msg.x, msg.y)\n",
    "        turtlesim.move_to_pose(name=\"turtle1\", \n",
    "                               new_pose={\"x\": x, \n",
    "                                         \"y\": y, \n",
    "                                         \"theta\": msg.theta})\n",
    "\n",
    "jupyros.subscribe(topic_name, Pose, lambda msg: callback_move_turtle(msg))"
   ]
  },
  {
   "cell_type": "markdown",
   "id": "9c6dfc83",
   "metadata": {},
   "source": [
    "### Spiral Publisher"
   ]
  },
  {
   "cell_type": "code",
   "execution_count": null,
   "id": "968252d1-23ce-44fd-b8b2-54a55aeec753",
   "metadata": {},
   "outputs": [],
   "source": [
    "%%thread_cell\n",
    "\n",
    "rate = rospy.Rate(5)\n",
    "pub = rospy.Publisher(topic_name, Pose, queue_size=10, latch=True)\n",
    "for i in range(360*5):\n",
    "    msg = Pose()\n",
    "    msg.x = (i/1800*5)*math.sin(i / 180 * math.pi) + 11.08 / 2\n",
    "    msg.y = (i/1800*5)*math.cos(i / 180 * math.pi) + 11.08 / 2\n",
    "    msg.theta = - i / 180 * math.pi\n",
    "    pub.publish(msg)\n",
    "    rate.sleep()"
   ]
  },
  {
   "cell_type": "markdown",
   "id": "d0d4dfdb-6a18-471c-b3e9-5434ad8e1eb8",
   "metadata": {},
   "source": [
    "## Spawn Service and Client"
   ]
  },
  {
   "cell_type": "code",
   "execution_count": null,
   "id": "f2573361-99a6-4df6-9733-80932bbbc861",
   "metadata": {},
   "outputs": [],
   "source": [
    "def spawn_turtle(msg):\n",
    "    print(f\"Spawning turtle at x={msg.x} and y={msg.y}\")\n",
    "    turtlesim.spawn(name=msg.name, \n",
    "                    pose={\"x\": msg.x, \n",
    "                          \"y\": msg.y, \n",
    "                          \"theta\": msg.theta})\n",
    "    return \"Spawned\""
   ]
  },
  {
   "cell_type": "code",
   "execution_count": null,
   "id": "685412eb-b2e8-44ef-876d-7ffa2bec0f23",
   "metadata": {},
   "outputs": [],
   "source": [
    "%%thread_cell\n",
    "\n",
    "srv = rospy.Service('spawn8', Spawn, spawn_turtle)"
   ]
  },
  {
   "cell_type": "code",
   "execution_count": null,
   "id": "c5927be6-db42-4046-8250-38c00ae54fae",
   "metadata": {},
   "outputs": [],
   "source": [
    "jupyros.client('spawn8', Spawn)"
   ]
  },
  {
   "cell_type": "code",
   "execution_count": null,
   "id": "db8e174f-acd0-4656-866b-4c4c9cf5f922",
   "metadata": {},
   "outputs": [],
   "source": [
    "print(turtlesim.name_index.keys())"
   ]
  },
  {
   "cell_type": "markdown",
   "id": "82bf7ca5-b092-4118-a3db-0f601ce15392",
   "metadata": {},
   "source": [
    "# tf2 Demo"
   ]
  },
  {
   "cell_type": "code",
   "execution_count": null,
   "id": "334c1152-09cd-486c-9f7f-ef1fbde58796",
   "metadata": {},
   "outputs": [],
   "source": [
    "turtles_tf2 = jupyros.TurtleWidget()\n",
    "display(turtles_tf2.canvas)"
   ]
  },
  {
   "cell_type": "code",
   "execution_count": null,
   "id": "e5327452-138d-40c5-8e4f-7fe8b02594cf",
   "metadata": {},
   "outputs": [],
   "source": [
    "turtles_tf2.spawn(name=\"turtle2\", new_pose={\"x\": 700,\n",
    "                                            \"y\": 1150,\n",
    "                                            \"theta\": math.radians(90)})"
   ]
  },
  {
   "cell_type": "code",
   "execution_count": null,
   "id": "0cab92c3-8561-46f8-aa34-3e01d6bdcbab",
   "metadata": {},
   "outputs": [],
   "source": [
    "topic1 = '/turtle1/pose'\n",
    "topic2 = '/turtle2/pose'\n",
    "\n",
    "def callback_move_turtle(msg, turtle_name):\n",
    "    elapsed_time = time() - turtles_tf2.last_move_time\n",
    "\n",
    "    if elapsed_time > 0.1:\n",
    "        x, y = convert_xy_units(msg.x, msg.y)\n",
    "        pose = {\"x\": x, \"y\": y, \"theta\": msg.theta}\n",
    "        turtles_tf2.move_to_pose(name=turtle_name, new_pose=pose)"
   ]
  },
  {
   "cell_type": "code",
   "execution_count": null,
   "id": "6fb2f710-22e0-4bc9-8e2c-0c3e09b37946",
   "metadata": {},
   "outputs": [],
   "source": [
    "jupyros.subscribe(topic1, Pose, \n",
    "                  lambda msg: callback_move_turtle(msg, turtle_name=\"turtle1\"))"
   ]
  },
  {
   "cell_type": "code",
   "execution_count": null,
   "id": "fb0672e1-1be9-44db-a2fe-6ca78c29da7a",
   "metadata": {},
   "outputs": [],
   "source": [
    "jupyros.subscribe(topic2, Pose, \n",
    "                  lambda msg: callback_move_turtle(msg, turtle_name=\"turtle2\"))"
   ]
  }
 ],
 "metadata": {
  "kernelspec": {
   "display_name": "Python 3 (ipykernel)",
   "language": "python",
   "name": "python3"
  },
  "language_info": {
   "codemirror_mode": {
    "name": "ipython",
    "version": 3
   },
   "file_extension": ".py",
   "mimetype": "text/x-python",
   "name": "python",
   "nbconvert_exporter": "python",
   "pygments_lexer": "ipython3",
   "version": "3.9.12"
  }
 },
 "nbformat": 4,
 "nbformat_minor": 5
}
