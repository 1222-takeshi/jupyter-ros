{
 "cells": [
  {
   "cell_type": "code",
   "execution_count": 1,
   "id": "3b12ee9d",
   "metadata": {},
   "outputs": [],
   "source": [
    "%load_ext autoreload\n",
    "%autoreload 2"
   ]
  },
  {
   "cell_type": "code",
   "execution_count": 2,
   "id": "7259a8b6",
   "metadata": {},
   "outputs": [],
   "source": [
    "import jupyros\n",
    "import rospy\n",
    "import rospkg\n",
    "from turtlesim.srv import Spawn\n",
    "from random import randint\n",
    "from math import radians\n",
    "from ipywidgets import Image\n",
    "from ipycanvas import hold_canvas, Canvas, MultiCanvas\n",
    "from time import time\n",
    "from turtlesim.msg import Pose"
   ]
  },
  {
   "cell_type": "code",
   "execution_count": 3,
   "id": "e2d89970",
   "metadata": {},
   "outputs": [],
   "source": [
    "rospy.init_node(\"superturtle\")"
   ]
  },
  {
   "cell_type": "markdown",
   "id": "fdc0622f",
   "metadata": {},
   "source": [
    "# Turtlesim"
   ]
  },
  {
   "cell_type": "code",
   "execution_count": 4,
   "id": "0b94e2ad",
   "metadata": {},
   "outputs": [],
   "source": [
    "# !rosrun turtlesim turtlesim_node\n",
    "# !rosrun turtlesim turtle_teleop_key\n",
    "# jupyros.client('spawn', Spawn)"
   ]
  },
  {
   "cell_type": "code",
   "execution_count": 5,
   "id": "59074ca8",
   "metadata": {},
   "outputs": [],
   "source": [
    "def get_random_turtle():\n",
    "    turtles_svg = ['hydro', 'indigo', 'kinetic', 'lunar']\n",
    "    turtles_png = ['box-turtle', 'diamondback', 'electric', 'fuerte', 'groovy', 'hydro', 'indigo', 'jade',\n",
    "                   'kinetic', 'lunar', 'melodic', 'noetic', 'robot-turtle', 'sea-turtle', 'turtle']\n",
    "    \n",
    "    # Find path to a random turtle image\n",
    "    r = rospkg.RosPack()\n",
    "    turtlesim_path = r.get_path('turtlesim')\n",
    "    turtle_path = turtlesim_path + '/images/' + turtles_png[randint(0, len(turtles_png)-1)] + '.png'\n",
    "\n",
    "    turtle_img = Image.from_file(turtle_path)\n",
    "\n",
    "    return turtle_img\n",
    "\n",
    "\n",
    "def spawn_turtle():\n",
    "    spawn_canvas = Canvas(width=1600, height=1200, layout=dict(width=\"100%\"))\n",
    "    \n",
    "    # Water\n",
    "    spawn_canvas.fill_style = \"#4556FF\"\n",
    "    spawn_canvas.fill_rect(0, 0, spawn_canvas.width, spawn_canvas.height)\n",
    "    \n",
    "    # Turtle\n",
    "    turtle_img = get_random_turtle()   \n",
    "    turtle_size = 100  \n",
    "    turtle_canvas = Canvas(width=turtle_size, height=turtle_size)  \n",
    "    turtle_canvas.draw_image(turtle_img, width=turtle_size)\n",
    "\n",
    "    \n",
    "    # Center of turtle and canvas from top left\n",
    "    x = (spawn_canvas.width - turtle_size) / 2\n",
    "    y = (spawn_canvas.height - turtle_size) / 2\n",
    "    \n",
    "    # Water canvas\n",
    "    spawn_canvas.translate(x, y)\n",
    "    spawn_canvas.rotate(radians(90))\n",
    "    spawn_canvas.draw_image(turtle_img, width=turtle_size)\n",
    "    spawn_canvas.rotate(radians(-90))\n",
    "    spawn_canvas.translate(-x, -y)\n",
    "\n",
    "    return turtle_canvas, spawn_canvas"
   ]
  },
  {
   "cell_type": "code",
   "execution_count": 41,
   "id": "a0e4d69e",
   "metadata": {},
   "outputs": [],
   "source": [
    "## WITH MULTI CANVAS\n",
    "\n",
    "def spawn_turtle_multi():\n",
    "    # [0] Background\n",
    "    # [1] Path line\n",
    "    # [2] Turtle\n",
    "    # [3] Ghost turtle\n",
    "    spawn_canvas = MultiCanvas(4, width=1600, height=1200, layout=dict(width=\"100%\"))\n",
    "    \n",
    "    # Water background\n",
    "    spawn_canvas[0].fill_style = \"#4556FF\"\n",
    "    spawn_canvas[0].fill_rect(0, 0, spawn_canvas.width, spawn_canvas.height)\n",
    "    \n",
    "    # Turtle\n",
    "    turtle_img = get_random_turtle()   \n",
    "    turtle_size = 100  \n",
    "    turtle_canvas = Canvas(width=turtle_size, height=turtle_size)  \n",
    "    turtle_canvas.draw_image(turtle_img, width=turtle_size)\n",
    "    \n",
    "    # Center of turtle and canvas from top left\n",
    "    x = (spawn_canvas[0].width - turtle_size) / 2\n",
    "    y = (spawn_canvas[0].height - turtle_size) / 2\n",
    "    \n",
    "    # Turtle canvas\n",
    "    with hold_canvas(spawn_canvas):\n",
    "        spawn_canvas[2].translate(x, y)\n",
    "        spawn_canvas[2].rotate(radians(90))\n",
    "        spawn_canvas[2].draw_image(turtle_img, width=turtle_size)\n",
    "        spawn_canvas[2].rotate(radians(-90))\n",
    "        spawn_canvas[2].translate(-x, -y)\n",
    "\n",
    "    return turtle_canvas, spawn_canvas"
   ]
  },
  {
   "cell_type": "markdown",
   "id": "fa91e79c",
   "metadata": {},
   "source": [
    "### Translate and rotate turtle"
   ]
  },
  {
   "cell_type": "code",
   "execution_count": 7,
   "id": "6d3799a4",
   "metadata": {},
   "outputs": [],
   "source": [
    "def move_turtle(turtle_canvas, water_canvas, x, y, theta, turtle_size=100): \n",
    "    with hold_canvas(water_canvas):\n",
    "        movement = \"Moving to {}, {}, with {} radians\"\n",
    "#         print(movement.format(x,y,theta))\n",
    "        \n",
    "        # Clear old animation step\n",
    "        water_canvas.clear()\n",
    "\n",
    "        # New animation drawings\n",
    "        water_canvas.fill_style = \"#4556FF\"\n",
    "        water_canvas.fill_rect(0, 0, water_canvas.width, water_canvas.height)\n",
    "        \n",
    "                \n",
    "        # Offsets for turtle center and orientation\n",
    "        x_offset = -turtle_size / 2\n",
    "        y_offset = -turtle_size / 2\n",
    "        theta_offset = theta - radians(90)\n",
    "        \n",
    "        # Transform canvas\n",
    "        water_canvas.translate(x, y)\n",
    "        water_canvas.rotate(-theta_offset)\n",
    "\n",
    "        water_canvas.draw_image(turtle_canvas, \n",
    "                                x=x_offset, \n",
    "                                y=y_offset, \n",
    "                                width=turtle_size)\n",
    "        \n",
    "        # Revert transformation\n",
    "        water_canvas.rotate(theta_offset)\n",
    "        water_canvas.translate(-x, -y)\n",
    "        \n",
    "    return water_canvas"
   ]
  },
  {
   "cell_type": "code",
   "execution_count": 57,
   "id": "9aec8fbc",
   "metadata": {},
   "outputs": [],
   "source": [
    "def move_turtle_multi(turtle_canvas, canvas, x, y, theta, turtle_size=100): \n",
    "    with hold_canvas(canvas):\n",
    "        movement = \"Moving to {}, {}, with {} radians\"\n",
    "#         global counter\n",
    "#         if time() - counter > 3:\n",
    "#             print(movement.format(x,y,theta))\n",
    "\n",
    "        # Offsets for turtle center and orientation\n",
    "        x_offset = -turtle_size / 2\n",
    "        y_offset = -turtle_size / 2\n",
    "        theta_offset = theta - radians(90)\n",
    "\n",
    "        def draw_turtle(n):\n",
    "            canvas[n].translate(x,y)\n",
    "            canvas[n].rotate(-theta_offset)\n",
    "            canvas[n].draw_image(turtle_canvas, \n",
    "                                 x=x_offset,\n",
    "                                 y=y_offset,\n",
    "                                 width=turtle_size)\n",
    "            canvas[n].rotate(theta_offset)\n",
    "            canvas[n].translate(-x,-y)   \n",
    "            return canvas\n",
    "\n",
    "        # Draw turtle in new position on foremost canvas\n",
    "        draw_turtle(3)\n",
    "\n",
    "        # Clear old turtle\n",
    "        canvas[2].clear()\n",
    "\n",
    "        # Draw new turtle again on middle canvas\n",
    "        draw_turtle(2)\n",
    "\n",
    "        # Clear foremost canvas\n",
    "        canvas[3].clear()\n",
    "        \n",
    "        # Draw line marker\n",
    "        canvas[1].fill_style = \"#B3B8FF\"\n",
    "        canvas[1].fill_circle(x, y, radius=3)\n",
    "        \n",
    "        \n",
    "    return canvas"
   ]
  },
  {
   "cell_type": "code",
   "execution_count": 9,
   "id": "adb8838c",
   "metadata": {},
   "outputs": [],
   "source": [
    "def convert_xy_units(x, y):\n",
    "    convert_factor = 11.08\n",
    "    x_convert = x / convert_factor * water[0].width\n",
    "    y_convert = (convert_factor - y) / convert_factor * water[0].height\n",
    "    \n",
    "    return x_convert, y_convert"
   ]
  },
  {
   "cell_type": "code",
   "execution_count": 10,
   "id": "92a24ad2",
   "metadata": {},
   "outputs": [],
   "source": [
    "# from time import sleep\n",
    "\n",
    "# x = water_canvas.width // 2\n",
    "# y = water_canvas.height // 2\n",
    "\n",
    "# for i in range(360):\n",
    "#     move_turtle(turtle_canvas, water_canvas, x+i, y+i, theta=radians(i))\n",
    "#     sleep(0.01)"
   ]
  },
  {
   "cell_type": "markdown",
   "id": "9c6dfc83",
   "metadata": {},
   "source": [
    "### Publisher"
   ]
  },
  {
   "cell_type": "code",
   "execution_count": 11,
   "id": "031973e9",
   "metadata": {
    "scrolled": true
   },
   "outputs": [],
   "source": [
    "topic_name = '/turtle1/pose'\n",
    "\n",
    "# jupyros.publish(topic_name, Pose)"
   ]
  },
  {
   "cell_type": "markdown",
   "id": "ea46e195",
   "metadata": {},
   "source": [
    "### Animation"
   ]
  },
  {
   "cell_type": "code",
   "execution_count": null,
   "id": "3556aef4",
   "metadata": {
    "scrolled": false
   },
   "outputs": [],
   "source": [
    "turtle_canvas, water_canvas = spawn_turtle()\n",
    "display(water_canvas)"
   ]
  },
  {
   "cell_type": "markdown",
   "id": "ac91211f",
   "metadata": {},
   "source": [
    "### Subscriber"
   ]
  },
  {
   "cell_type": "code",
   "execution_count": null,
   "id": "0546c2c7",
   "metadata": {},
   "outputs": [],
   "source": [
    "elapsed_time = 0 # seconds\n",
    "start_time = time()\n",
    "\n",
    "def callback_move_turtle(msg):\n",
    "    global start_time\n",
    "    \n",
    "    elapsed_time = time() - start_time\n",
    "\n",
    "    if elapsed_time > 0.1:\n",
    "        start_time = time()\n",
    "        x_canvas, y_canvas = convert_xy_units(msg.x, msg.y)\n",
    "        move_turtle(turtle_canvas, water_canvas, x_canvas, y_canvas, msg.theta)\n",
    "\n",
    "jupyros.subscribe(topic_name, Pose, lambda msg: callback_move_turtle(msg))"
   ]
  },
  {
   "cell_type": "markdown",
   "id": "46a30a01",
   "metadata": {},
   "source": [
    "### Multi Canvas"
   ]
  },
  {
   "cell_type": "code",
   "execution_count": 59,
   "id": "0465d36c",
   "metadata": {},
   "outputs": [
    {
     "data": {
      "application/vnd.jupyter.widget-view+json": {
       "model_id": "36b832de616b4554a70aa8e91370b888",
       "version_major": 2,
       "version_minor": 0
      },
      "text/plain": [
       "MultiCanvas(height=1200, layout=Layout(width='100%'), width=1600)"
      ]
     },
     "metadata": {},
     "output_type": "display_data"
    }
   ],
   "source": [
    "turtle, water = spawn_turtle_multi()\n",
    "display(water)\n",
    "\n",
    "counter = time()\n",
    "elapsed_time = 0 # seconds\n",
    "start_time = time()"
   ]
  },
  {
   "cell_type": "code",
   "execution_count": 60,
   "id": "3c30521f",
   "metadata": {},
   "outputs": [
    {
     "name": "stderr",
     "output_type": "stream",
     "text": [
      "Removing previous callback, only one redirection possible right now\n"
     ]
    },
    {
     "data": {
      "application/vnd.jupyter.widget-view+json": {
       "model_id": "96e43710a9c84639919d2dea95edca47",
       "version_major": 2,
       "version_minor": 0
      },
      "text/plain": [
       "VBox(children=(HBox(children=(Button(description='Stop', style=ButtonStyle()),)), Output(layout=Layout(border=…"
      ]
     },
     "metadata": {},
     "output_type": "display_data"
    }
   ],
   "source": [
    "def callback_move_turtle(msg):\n",
    "    global start_time\n",
    "    \n",
    "    elapsed_time = time() - start_time\n",
    "\n",
    "    if elapsed_time > 0.05:\n",
    "        start_time = time()\n",
    "        x_canvas, y_canvas = convert_xy_units(msg.x, msg.y)\n",
    "        move_turtle_multi(turtle, water, x_canvas, y_canvas, msg.theta)\n",
    "\n",
    "jupyros.subscribe(topic_name, Pose, lambda msg: callback_move_turtle(msg))"
   ]
  },
  {
   "cell_type": "code",
   "execution_count": null,
   "id": "74f44989",
   "metadata": {},
   "outputs": [],
   "source": [
    "import rostopic\n",
    "\n",
    "pubs, _ = rostopic.get_topic_list()\n",
    "pubs\n",
    "\n",
    "# Retrieve name of last turtle spawned\n",
    "last_turtle = pubs[-1][0].split('/')[1]\n",
    "print(last_turtle)"
   ]
  }
 ],
 "metadata": {
  "kernelspec": {
   "display_name": "Python 3 (ipykernel)",
   "language": "python",
   "name": "python3"
  },
  "language_info": {
   "codemirror_mode": {
    "name": "ipython",
    "version": 3
   },
   "file_extension": ".py",
   "mimetype": "text/x-python",
   "name": "python",
   "nbconvert_exporter": "python",
   "pygments_lexer": "ipython3",
   "version": "3.9.12"
  }
 },
 "nbformat": 4,
 "nbformat_minor": 5
}
