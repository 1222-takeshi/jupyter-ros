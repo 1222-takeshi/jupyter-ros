{
 "cells": [
  {
   "cell_type": "code",
   "execution_count": 1,
   "id": "3b12ee9d",
   "metadata": {},
   "outputs": [],
   "source": [
    "%load_ext autoreload\n",
    "%autoreload 2"
   ]
  },
  {
   "cell_type": "code",
   "execution_count": 2,
   "id": "7259a8b6",
   "metadata": {},
   "outputs": [],
   "source": [
    "import jupyros\n",
    "import rospy\n",
    "import rospkg\n",
    "from turtlesim.srv import Spawn\n",
    "from random import randint\n",
    "from math import radians\n",
    "from ipywidgets import Image\n",
    "from ipycanvas import hold_canvas, Canvas, MultiCanvas\n",
    "from time import time\n",
    "from turtlesim.msg import Pose"
   ]
  },
  {
   "cell_type": "code",
   "execution_count": 3,
   "id": "e2d89970",
   "metadata": {},
   "outputs": [],
   "source": [
    "rospy.init_node(\"superturtle\")"
   ]
  },
  {
   "cell_type": "markdown",
   "id": "fdc0622f",
   "metadata": {},
   "source": [
    "# Turtlesim"
   ]
  },
  {
   "cell_type": "code",
   "execution_count": 4,
   "id": "0b94e2ad",
   "metadata": {},
   "outputs": [],
   "source": [
    "# !rosrun turtlesim turtlesim_node\n",
    "# !rosrun turtlesim turtle_teleop_key\n",
    "# jupyros.client('spawn', Spawn)"
   ]
  },
  {
   "cell_type": "code",
   "execution_count": 18,
   "id": "93ff63e6",
   "metadata": {
    "scrolled": false
   },
   "outputs": [
    {
     "data": {
      "application/vnd.jupyter.widget-view+json": {
       "model_id": "a803cc56ef63441680477a27fc727648",
       "version_major": 2,
       "version_minor": 0
      },
      "text/plain": [
       "MultiCanvas(height=1600, layout=Layout(width='100%'), width=1600)"
      ]
     },
     "metadata": {},
     "output_type": "display_data"
    }
   ],
   "source": [
    "turtle = jupyros.TurtleWidget()\n",
    "display(turtle.canvas)"
   ]
  },
  {
   "cell_type": "code",
   "execution_count": 17,
   "id": "9f2d339d",
   "metadata": {},
   "outputs": [
    {
     "name": "stderr",
     "output_type": "stream",
     "text": [
      "Removing previous callback, only one redirection possible right now\n"
     ]
    },
    {
     "data": {
      "application/vnd.jupyter.widget-view+json": {
       "model_id": "142d9b1456974798936588f5240ebf84",
       "version_major": 2,
       "version_minor": 0
      },
      "text/plain": [
       "VBox(children=(HBox(children=(Button(description='Stop', style=ButtonStyle()),)), Output(layout=Layout(border=…"
      ]
     },
     "metadata": {},
     "output_type": "display_data"
    }
   ],
   "source": [
    "topic_name = '/turtle1/pose'\n",
    "\n",
    "def convert_xy_units(x, y):\n",
    "    convert_factor = 11.08\n",
    "    x_convert = x / convert_factor * turtle.canvas_width\n",
    "    y_convert = (convert_factor - y) / convert_factor * turtle.canvas_height\n",
    "    \n",
    "    return x_convert, y_convert\n",
    "\n",
    "def callback_move_turtle(msg):\n",
    "    elapsed_time = time() - turtle.last_move_time\n",
    "\n",
    "    if elapsed_time > 0.05:\n",
    "        x, y = convert_xy_units(msg.x, msg.y)\n",
    "        position = {\"x\": x, \"y\": y, \"theta\": msg.theta}\n",
    "        turtle.move_to_pose(position)\n",
    "#         move_turtle_multi(turtle, water, x_canvas, y_canvas, msg.theta)\n",
    "\n",
    "jupyros.subscribe(topic_name, Pose, lambda msg: callback_move_turtle(msg))"
   ]
  },
  {
   "cell_type": "code",
   "execution_count": 5,
   "id": "59074ca8",
   "metadata": {},
   "outputs": [],
   "source": [
    "def get_random_turtle():\n",
    "    turtles_svg = ['hydro', 'indigo', 'kinetic', 'lunar']\n",
    "    turtles_png = ['box-turtle', 'diamondback', 'electric', 'fuerte', 'groovy', 'hydro', 'indigo', 'jade',\n",
    "                   'kinetic', 'lunar', 'melodic', 'noetic', 'robot-turtle', 'sea-turtle', 'turtle']\n",
    "    \n",
    "    # Find path to a random turtle image\n",
    "    r = rospkg.RosPack()\n",
    "    turtlesim_path = r.get_path('turtlesim')\n",
    "    turtle_path = turtlesim_path + '/images/' + turtles_png[randint(0, len(turtles_png)-1)] + '.png'\n",
    "\n",
    "    turtle_img = Image.from_file(turtle_path)\n",
    "\n",
    "    return turtle_img\n",
    "\n",
    "\n",
    "def spawn_turtle():\n",
    "    spawn_canvas = Canvas(width=1600, height=1200, layout={\"width\"=\"100%\"})\n",
    "    \n",
    "    # Water\n",
    "    spawn_canvas.fill_style = \"#4556FF\"\n",
    "    spawn_canvas.fill_rect(0, 0, spawn_canvas.width, spawn_canvas.height)\n",
    "    \n",
    "    # Turtle\n",
    "    turtle_img = get_random_turtle()   \n",
    "    turtle_size = 100  \n",
    "    turtle_canvas = Canvas(width=turtle_size, height=turtle_size)  \n",
    "    turtle_canvas.draw_image(turtle_img, width=turtle_size)\n",
    "\n",
    "    \n",
    "    # Center of turtle and canvas from top left\n",
    "    x = (spawn_canvas.width - turtle_size) / 2\n",
    "    y = (spawn_canvas.height - turtle_size) / 2\n",
    "    \n",
    "    # Water canvas\n",
    "    spawn_canvas.translate(x, y)\n",
    "    spawn_canvas.rotate(radians(90))\n",
    "    spawn_canvas.draw_image(turtle_img, width=turtle_size)\n",
    "    spawn_canvas.rotate(radians(-90))\n",
    "    spawn_canvas.translate(-x, -y)\n",
    "\n",
    "    return turtle_canvas, spawn_canvas"
   ]
  },
  {
   "cell_type": "code",
   "execution_count": 53,
   "id": "a0e4d69e",
   "metadata": {},
   "outputs": [],
   "source": [
    "## WITH MULTI CANVAS\n",
    "\n",
    "def spawn_turtle_multi():\n",
    "    # [0] Background\n",
    "    # [1] Path line\n",
    "    # [2] Turtle\n",
    "    # [3] Ghost turtle\n",
    "    spawn_canvas = MultiCanvas(4, width=1600, height=1200, layout={\"width\":\"100%\"})\n",
    "    \n",
    "    # Water background\n",
    "    spawn_canvas[0].fill_style = \"#4556FF\"\n",
    "    spawn_canvas[0].fill_rect(0, 0, spawn_canvas.width, spawn_canvas.height)\n",
    "    \n",
    "    # Turtle\n",
    "    turtle_img = get_random_turtle()   \n",
    "    turtle_size = 100  \n",
    "    turtle_canvas = Canvas(width=turtle_size, height=turtle_size)  \n",
    "    turtle_canvas.draw_image(turtle_img, width=turtle_size)\n",
    "    \n",
    "    # Center of turtle and canvas from top left\n",
    "    x = (spawn_canvas[0].width - turtle_size) / 2\n",
    "    y = (spawn_canvas[0].height - turtle_size) / 2\n",
    "    \n",
    "    # Turtle canvas\n",
    "    with hold_canvas(spawn_canvas):\n",
    "        spawn_canvas[2].translate(x, y)\n",
    "        spawn_canvas[2].rotate(radians(90))\n",
    "        spawn_canvas[2].draw_image(turtle_img, width=turtle_size)\n",
    "        spawn_canvas[2].rotate(radians(-90))\n",
    "        spawn_canvas[2].translate(-x, -y)\n",
    "\n",
    "    return turtle_canvas, spawn_canvas"
   ]
  },
  {
   "cell_type": "markdown",
   "id": "fa91e79c",
   "metadata": {},
   "source": [
    "### Translate and rotate turtle"
   ]
  },
  {
   "cell_type": "code",
   "execution_count": 7,
   "id": "6d3799a4",
   "metadata": {},
   "outputs": [],
   "source": [
    "def move_turtle(turtle_canvas, water_canvas, x, y, theta, turtle_size=100): \n",
    "    with hold_canvas(water_canvas):\n",
    "        movement = \"Moving to {}, {}, with {} radians\"\n",
    "#         print(movement.format(x,y,theta))\n",
    "        \n",
    "        # Clear old animation step\n",
    "        water_canvas.clear()\n",
    "\n",
    "        # New animation drawings\n",
    "        water_canvas.fill_style = \"#4556FF\"\n",
    "        water_canvas.fill_rect(0, 0, water_canvas.width, water_canvas.height)\n",
    "        \n",
    "                \n",
    "        # Offsets for turtle center and orientation\n",
    "        x_offset = -turtle_size / 2\n",
    "        y_offset = -turtle_size / 2\n",
    "        theta_offset = theta - radians(90)\n",
    "        \n",
    "        # Transform canvas\n",
    "        water_canvas.translate(x, y)\n",
    "        water_canvas.rotate(-theta_offset)\n",
    "\n",
    "        water_canvas.draw_image(turtle_canvas, \n",
    "                                x=x_offset, \n",
    "                                y=y_offset, \n",
    "                                width=turtle_size)\n",
    "        \n",
    "        # Revert transformation\n",
    "        water_canvas.rotate(theta_offset)\n",
    "        water_canvas.translate(-x, -y)\n",
    "        \n",
    "    return water_canvas"
   ]
  },
  {
   "cell_type": "code",
   "execution_count": 8,
   "id": "9aec8fbc",
   "metadata": {},
   "outputs": [],
   "source": [
    "def move_turtle_multi(turtle_canvas, canvas, x, y, theta, turtle_size=100): \n",
    "    with hold_canvas(canvas):\n",
    "        movement = \"Moving to {}, {}, with {} radians\"\n",
    "#         global counter\n",
    "#         if time() - counter > 3:\n",
    "#             print(movement.format(x,y,theta))\n",
    "\n",
    "        # Offsets for turtle center and orientation\n",
    "        x_offset = -turtle_size / 2\n",
    "        y_offset = -turtle_size / 2\n",
    "        theta_offset = theta - radians(90)\n",
    "\n",
    "        def draw_turtle(n):\n",
    "            canvas[n].translate(x,y)\n",
    "            canvas[n].rotate(-theta_offset)\n",
    "            canvas[n].draw_image(turtle_canvas, \n",
    "                                 x=x_offset,\n",
    "                                 y=y_offset,\n",
    "                                 width=turtle_size)\n",
    "            canvas[n].rotate(theta_offset)\n",
    "            canvas[n].translate(-x,-y)   \n",
    "            return canvas\n",
    "\n",
    "        # Draw turtle in new position on foremost canvas\n",
    "        draw_turtle(3)\n",
    "\n",
    "        # Clear old turtle\n",
    "        canvas[2].clear()\n",
    "\n",
    "        # Draw new turtle again on middle canvas\n",
    "        draw_turtle(2)\n",
    "\n",
    "        # Clear foremost canvas\n",
    "        canvas[3].clear()\n",
    "        \n",
    "        # Draw line marker\n",
    "        canvas[1].fill_style = \"#B3B8FF\"\n",
    "        canvas[1].fill_circle(x, y, radius=5)\n",
    "        \n",
    "        \n",
    "    return canvas"
   ]
  },
  {
   "cell_type": "code",
   "execution_count": 17,
   "id": "adb8838c",
   "metadata": {},
   "outputs": [],
   "source": [
    "def convert_xy_units(x, y):\n",
    "    convert_factor = 11.08\n",
    "    x_convert = x / convert_factor * water[0].width\n",
    "    y_convert = (convert_factor - y) / convert_factor * water[0].height\n",
    "    \n",
    "    return x_convert, y_convert"
   ]
  },
  {
   "cell_type": "code",
   "execution_count": 10,
   "id": "92a24ad2",
   "metadata": {},
   "outputs": [],
   "source": [
    "# from time import sleep\n",
    "\n",
    "# x = water_canvas.width // 2\n",
    "# y = water_canvas.height // 2\n",
    "\n",
    "# for i in range(360):\n",
    "#     move_turtle(turtle_canvas, water_canvas, x+i, y+i, theta=radians(i))\n",
    "#     sleep(0.01)"
   ]
  },
  {
   "cell_type": "markdown",
   "id": "9c6dfc83",
   "metadata": {},
   "source": [
    "### Publisher"
   ]
  },
  {
   "cell_type": "code",
   "execution_count": 11,
   "id": "031973e9",
   "metadata": {
    "scrolled": true
   },
   "outputs": [],
   "source": [
    "topic_name = '/turtle1/pose'\n",
    "\n",
    "# jupyros.publish(topic_name, Pose)"
   ]
  },
  {
   "cell_type": "markdown",
   "id": "ea46e195",
   "metadata": {},
   "source": [
    "### Animation"
   ]
  },
  {
   "cell_type": "code",
   "execution_count": null,
   "id": "3556aef4",
   "metadata": {
    "scrolled": false
   },
   "outputs": [],
   "source": [
    "turtle_canvas, water_canvas = spawn_turtle()\n",
    "display(water_canvas)"
   ]
  },
  {
   "cell_type": "markdown",
   "id": "ac91211f",
   "metadata": {},
   "source": [
    "### Subscriber"
   ]
  },
  {
   "cell_type": "code",
   "execution_count": null,
   "id": "0546c2c7",
   "metadata": {},
   "outputs": [],
   "source": [
    "elapsed_time = 0 # seconds\n",
    "start_time = time()\n",
    "\n",
    "def callback_move_turtle(msg):\n",
    "    global start_time\n",
    "    \n",
    "    elapsed_time = time() - start_time\n",
    "\n",
    "    if elapsed_time > 0.1:\n",
    "        start_time = time()\n",
    "        x_canvas, y_canvas = convert_xy_units(msg.x, msg.y)\n",
    "        move_turtle(turtle_canvas, water_canvas, x_canvas, y_canvas, msg.theta)\n",
    "\n",
    "jupyros.subscribe(topic_name, Pose, lambda msg: callback_move_turtle(msg))"
   ]
  },
  {
   "cell_type": "markdown",
   "id": "46a30a01",
   "metadata": {},
   "source": [
    "### Multi Canvas"
   ]
  },
  {
   "cell_type": "code",
   "execution_count": 54,
   "id": "0465d36c",
   "metadata": {
    "scrolled": false
   },
   "outputs": [
    {
     "name": "stderr",
     "output_type": "stream",
     "text": [
      "[autoreload of jupyros.ros_widgets failed: Traceback (most recent call last):\n",
      "  File \"/home/ihuicatl/Robots/miniconda3/envs/quantjupy/lib/python3.9/site-packages/IPython/extensions/autoreload.py\", line 257, in check\n",
      "    superreload(m, reload, self.old_objects)\n",
      "  File \"/home/ihuicatl/Robots/miniconda3/envs/quantjupy/lib/python3.9/site-packages/IPython/extensions/autoreload.py\", line 455, in superreload\n",
      "    module = reload(module)\n",
      "  File \"/home/ihuicatl/Robots/miniconda3/envs/quantjupy/lib/python3.9/importlib/__init__.py\", line 169, in reload\n",
      "    _bootstrap._exec(spec, module)\n",
      "  File \"<frozen importlib._bootstrap>\", line 613, in _exec\n",
      "  File \"<frozen importlib._bootstrap_external>\", line 846, in exec_module\n",
      "  File \"<frozen importlib._bootstrap_external>\", line 983, in get_code\n",
      "  File \"<frozen importlib._bootstrap_external>\", line 913, in source_to_code\n",
      "  File \"<frozen importlib._bootstrap>\", line 228, in _call_with_frames_removed\n",
      "  File \"/home/ihuicatl/Robots/repos/QuantStack/jupyter-ros/jupyros/ros_widgets.py\", line 388\n",
      "    \n",
      "    ^\n",
      "IndentationError: expected an indented block\n",
      "]\n"
     ]
    },
    {
     "ename": "NameError",
     "evalue": "name 'get_random_turtle' is not defined",
     "output_type": "error",
     "traceback": [
      "\u001b[0;31m---------------------------------------------------------------------------\u001b[0m",
      "\u001b[0;31mNameError\u001b[0m                                 Traceback (most recent call last)",
      "Input \u001b[0;32mIn [54]\u001b[0m, in \u001b[0;36m<cell line: 1>\u001b[0;34m()\u001b[0m\n\u001b[0;32m----> 1\u001b[0m turtle, water \u001b[38;5;241m=\u001b[39m \u001b[43mspawn_turtle_multi\u001b[49m\u001b[43m(\u001b[49m\u001b[43m)\u001b[49m\n\u001b[1;32m      2\u001b[0m display(water)\n\u001b[1;32m      4\u001b[0m counter \u001b[38;5;241m=\u001b[39m time()\n",
      "Input \u001b[0;32mIn [53]\u001b[0m, in \u001b[0;36mspawn_turtle_multi\u001b[0;34m()\u001b[0m\n\u001b[1;32m     12\u001b[0m spawn_canvas[\u001b[38;5;241m0\u001b[39m]\u001b[38;5;241m.\u001b[39mfill_rect(\u001b[38;5;241m0\u001b[39m, \u001b[38;5;241m0\u001b[39m, spawn_canvas\u001b[38;5;241m.\u001b[39mwidth, spawn_canvas\u001b[38;5;241m.\u001b[39mheight)\n\u001b[1;32m     14\u001b[0m \u001b[38;5;66;03m# Turtle\u001b[39;00m\n\u001b[0;32m---> 15\u001b[0m turtle_img \u001b[38;5;241m=\u001b[39m \u001b[43mget_random_turtle\u001b[49m()   \n\u001b[1;32m     16\u001b[0m turtle_size \u001b[38;5;241m=\u001b[39m \u001b[38;5;241m100\u001b[39m  \n\u001b[1;32m     17\u001b[0m turtle_canvas \u001b[38;5;241m=\u001b[39m Canvas(width\u001b[38;5;241m=\u001b[39mturtle_size, height\u001b[38;5;241m=\u001b[39mturtle_size)  \n",
      "\u001b[0;31mNameError\u001b[0m: name 'get_random_turtle' is not defined"
     ]
    }
   ],
   "source": [
    "turtle, water = spawn_turtle_multi()\n",
    "display(water)\n",
    "\n",
    "counter = time()\n",
    "elapsed_time = 0 # seconds\n",
    "start_time = time()"
   ]
  },
  {
   "cell_type": "code",
   "execution_count": 13,
   "id": "3c30521f",
   "metadata": {},
   "outputs": [
    {
     "data": {
      "application/vnd.jupyter.widget-view+json": {
       "model_id": "4c18260ea9b74a89b392baf84b6a4213",
       "version_major": 2,
       "version_minor": 0
      },
      "text/plain": [
       "VBox(children=(HBox(children=(Button(description='Stop', style=ButtonStyle()),)), Output(layout=Layout(border=…"
      ]
     },
     "metadata": {},
     "output_type": "display_data"
    }
   ],
   "source": [
    "def callback_move_turtle(msg):\n",
    "    global start_time\n",
    "    \n",
    "    elapsed_time = time() - start_time\n",
    "\n",
    "    if elapsed_time > 0.05:\n",
    "        start_time = time()\n",
    "        x_canvas, y_canvas = convert_xy_units(msg.x, msg.y)\n",
    "        move_turtle_multi(turtle, water, x_canvas, y_canvas, msg.theta)\n",
    "\n",
    "jupyros.subscribe(topic_name, Pose, lambda msg: callback_move_turtle(msg))"
   ]
  }
 ],
 "metadata": {
  "kernelspec": {
   "display_name": "Python 3 (ipykernel)",
   "language": "python",
   "name": "python3"
  },
  "language_info": {
   "codemirror_mode": {
    "name": "ipython",
    "version": 3
   },
   "file_extension": ".py",
   "mimetype": "text/x-python",
   "name": "python",
   "nbconvert_exporter": "python",
   "pygments_lexer": "ipython3",
   "version": "3.9.12"
  }
 },
 "nbformat": 4,
 "nbformat_minor": 5
}
