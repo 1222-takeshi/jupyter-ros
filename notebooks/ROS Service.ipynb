{
 "cells": [
  {
   "cell_type": "code",
   "execution_count": 1,
   "id": "3b12ee9d",
   "metadata": {},
   "outputs": [],
   "source": [
    "%load_ext autoreload\n",
    "%autoreload 2"
   ]
  },
  {
   "cell_type": "code",
   "execution_count": 2,
   "id": "7259a8b6",
   "metadata": {},
   "outputs": [],
   "source": [
    "import jupyros\n",
    "import rospy\n",
    "import rospkg\n",
    "from rospy_tutorials.srv import AddTwoInts, AddTwoIntsResponse\n",
    "from turtlesim.srv import Spawn\n",
    "from random import randint\n",
    "from math import radians\n",
    "from ipywidgets import Image\n",
    "from ipycanvas import hold_canvas, Canvas"
   ]
  },
  {
   "cell_type": "markdown",
   "id": "2572b8ea",
   "metadata": {},
   "source": [
    "# Add Two Ints"
   ]
  },
  {
   "cell_type": "code",
   "execution_count": 3,
   "id": "e2d89970",
   "metadata": {},
   "outputs": [],
   "source": [
    "rospy.init_node(\"supernode\")"
   ]
  },
  {
   "cell_type": "code",
   "execution_count": 4,
   "id": "8725d5f8",
   "metadata": {},
   "outputs": [],
   "source": [
    "def handle_add_two_ints(req):\n",
    "    print(\"Returning [%s + %s = %s]\"%(req.a, req.b, (req.a + req.b)))\n",
    "    return AddTwoIntsResponse(req.a + req.b)"
   ]
  },
  {
   "cell_type": "code",
   "execution_count": 5,
   "id": "f218a9a6",
   "metadata": {
    "scrolled": true
   },
   "outputs": [
    {
     "data": {
      "application/vnd.jupyter.widget-view+json": {
       "model_id": "44683dc5ac194279a40599fd2d081c98",
       "version_major": 2,
       "version_minor": 0
      },
      "text/plain": [
       "Output(layout=Layout(border='1px solid gray'))"
      ]
     },
     "metadata": {},
     "output_type": "display_data"
    }
   ],
   "source": [
    "%%thread_cell\n",
    "\n",
    "srv = rospy.Service('add_two_ints', AddTwoInts, handle_add_two_ints)"
   ]
  },
  {
   "cell_type": "code",
   "execution_count": 6,
   "id": "cc3df77b",
   "metadata": {},
   "outputs": [
    {
     "data": {
      "application/vnd.jupyter.widget-view+json": {
       "model_id": "85e0346e32774325a9719a1cfaf7c3e4",
       "version_major": 2,
       "version_minor": 0
      },
      "text/plain": [
       "VBox(children=(HBox(children=(Label(value='a', layout=Layout(width='100px')), IntText(value=0))), HBox(childre…"
      ]
     },
     "metadata": {},
     "output_type": "display_data"
    }
   ],
   "source": [
    "jupyros.client('add_two_ints', AddTwoInts)"
   ]
  },
  {
   "cell_type": "markdown",
   "id": "fdc0622f",
   "metadata": {},
   "source": [
    "# Turtlesim"
   ]
  },
  {
   "cell_type": "code",
   "execution_count": 7,
   "id": "0b94e2ad",
   "metadata": {},
   "outputs": [],
   "source": [
    "# !rosrun turtlesim turtlesim_node\n",
    "# jupyros.client('spawn', Spawn)"
   ]
  },
  {
   "cell_type": "code",
   "execution_count": 8,
   "id": "59074ca8",
   "metadata": {},
   "outputs": [],
   "source": [
    "def get_random_turtle():\n",
    "    turtles_svg = ['hydro', 'indigo', 'kinetic', 'lunar']\n",
    "    turtles_png = ['box-turtle', 'diamondback', 'electric', 'fuerte', 'groovy', 'hydro', 'indigo', 'jade',\n",
    "                   'kinetic', 'lunar', 'melodic', 'noetic', 'robot-turtle', 'sea-turtle', 'turtle']\n",
    "    \n",
    "    # Find path to a random turtle image\n",
    "    r = rospkg.RosPack()\n",
    "    turtlesim_path = r.get_path('turtlesim')\n",
    "    turtle_path = turtlesim_path + '/images/' + turtles_png[randint(0, len(turtles_png)-1)] + '.png'\n",
    "\n",
    "    turtle_img = Image.from_file(turtle_path)\n",
    "\n",
    "    return turtle_img\n",
    "\n",
    "\n",
    "def spawn_turtle():\n",
    "    spawn_canvas = Canvas(width=1600, height=1200, layout=dict(width=\"100%\"))\n",
    "    \n",
    "    # Water\n",
    "    spawn_canvas.fill_style = \"#4556FF\"\n",
    "    spawn_canvas.fill_rect(0, 0, spawn_canvas.width, spawn_canvas.height)\n",
    "    \n",
    "    # Turtle\n",
    "    turtle_img = get_random_turtle()   \n",
    "    turtle_size = 100  \n",
    "    turtle_canvas = Canvas(width=turtle_size, height=turtle_size)   \n",
    "    turtle_canvas.draw_image(turtle_img, width=turtle_size)\n",
    "    \n",
    "    # Center of turtle and canvas from top left\n",
    "    x = (spawn_canvas.width - turtle_size) / 2\n",
    "    y = (spawn_canvas.height - turtle_size) / 2\n",
    "    \n",
    "    # Water canvas\n",
    "    spawn_canvas.draw_image(turtle_img, x, y, width=turtle_size)\n",
    "\n",
    "    return turtle_canvas, spawn_canvas"
   ]
  },
  {
   "cell_type": "code",
   "execution_count": 9,
   "id": "74f44989",
   "metadata": {},
   "outputs": [
    {
     "name": "stdout",
     "output_type": "stream",
     "text": [
      "turtle1\n"
     ]
    }
   ],
   "source": [
    "import rostopic\n",
    "\n",
    "pubs, _ = rostopic.get_topic_list()\n",
    "pubs\n",
    "\n",
    "# Retrieve name of last turtle spawned\n",
    "last_turtle = pubs[-1][0].split('/')[1]\n",
    "print(last_turtle)"
   ]
  },
  {
   "cell_type": "markdown",
   "id": "a26e997d",
   "metadata": {},
   "source": [
    "### Spawn turtle"
   ]
  },
  {
   "cell_type": "code",
   "execution_count": 10,
   "id": "1fa01798",
   "metadata": {
    "scrolled": false
   },
   "outputs": [],
   "source": [
    "turtle_canvas, water_canvas = spawn_turtle()\n",
    "# display(water_canvas)"
   ]
  },
  {
   "cell_type": "markdown",
   "id": "fa91e79c",
   "metadata": {},
   "source": [
    "### Translate and rotate turtle"
   ]
  },
  {
   "cell_type": "code",
   "execution_count": 11,
   "id": "6d3799a4",
   "metadata": {},
   "outputs": [],
   "source": [
    "# SUBSCRIBE TO CURRENT POSE\n",
    "from time import time \n",
    "\n",
    "def move_turtle(turtle_canvas, water_canvas, x, y, theta, turtle_size=100): \n",
    "    with hold_canvas(water_canvas):\n",
    "        movement = \"Moving to {}, {}, with {} radians\"\n",
    "        print(movement.format(x,y,theta))\n",
    "        \n",
    "        # Clear old animation step\n",
    "        water_canvas.clear()\n",
    "\n",
    "        # New animation drawings\n",
    "        water_canvas.fill_style = \"#4556FF\"\n",
    "        water_canvas.fill_rect(0, 0, water_canvas.width, water_canvas.height)\n",
    "        \n",
    "        # Transform canvas\n",
    "        water_canvas.translate(x, y)\n",
    "        water_canvas.rotate(theta)\n",
    "        \n",
    "        # Offsets for turtle center\n",
    "        x_offset = -turtle_size / 2\n",
    "        y_offset = -turtle_size / 2\n",
    "        \n",
    "        water_canvas.draw_image(turtle_canvas, x=x_offset, y=y_offset, width=turtle_size)\n",
    "        \n",
    "        # Revert transformation\n",
    "        water_canvas.rotate(-theta)\n",
    "        water_canvas.translate(-x, -y)\n",
    "        \n",
    "    return water_canvas"
   ]
  },
  {
   "cell_type": "code",
   "execution_count": 12,
   "id": "92a24ad2",
   "metadata": {},
   "outputs": [],
   "source": [
    "# from time import sleep\n",
    "\n",
    "# x = water_canvas.width // 2\n",
    "# y = water_canvas.height // 2\n",
    "\n",
    "# for i in range(360):\n",
    "#     move_turtle(turtle_canvas, water_canvas, x+i, y+i, theta=radians(i))\n",
    "#     sleep(0.01)"
   ]
  },
  {
   "cell_type": "code",
   "execution_count": 13,
   "id": "031973e9",
   "metadata": {
    "scrolled": true
   },
   "outputs": [],
   "source": [
    "from geometry_msgs.msg import Twist\n",
    "from turtlesim.msg import Pose\n",
    "\n",
    "topic_name = '/turtle1/pose'\n",
    "\n",
    "# jupyros.publish(topic_name, Pose)"
   ]
  },
  {
   "cell_type": "code",
   "execution_count": 14,
   "id": "3556aef4",
   "metadata": {
    "scrolled": false
   },
   "outputs": [
    {
     "data": {
      "application/vnd.jupyter.widget-view+json": {
       "model_id": "48088617ede648a3bb00fb1f310b3541",
       "version_major": 2,
       "version_minor": 0
      },
      "text/plain": [
       "Canvas(height=1200, layout=Layout(width='100%'), width=1600)"
      ]
     },
     "metadata": {},
     "output_type": "display_data"
    }
   ],
   "source": [
    "display(water_canvas)"
   ]
  },
  {
   "cell_type": "code",
   "execution_count": 15,
   "id": "8cad8209",
   "metadata": {
    "scrolled": true
   },
   "outputs": [],
   "source": [
    "# rospy.init_node('listen')\n",
    "\n",
    "# callback_pose = lambda msg: move_turtle(turtle_canvas, water_canvas, \n",
    "#                                         msg.x, \n",
    "#                                         msg.y, \n",
    "#                                         msg.theta)\n",
    "\n",
    "# jupyros.subscribe(topic_name, Pose, callback_pose)"
   ]
  },
  {
   "cell_type": "code",
   "execution_count": 16,
   "id": "adb8838c",
   "metadata": {},
   "outputs": [],
   "source": [
    "def convert_xy_units(x, y):\n",
    "    convert_factor = 11.08\n",
    "    x_convert = x / convert_factor * water_canvas.width\n",
    "    y_convert = (convert_factor - y) / convert_factor * water_canvas.height\n",
    "    \n",
    "    return x_convert, y_convert"
   ]
  },
  {
   "cell_type": "code",
   "execution_count": 17,
   "id": "2b73d24b",
   "metadata": {},
   "outputs": [],
   "source": [
    "elapsed_time = 0 # seconds\n",
    "start_time = time()\n",
    "\n",
    "def callback_pose(msg):\n",
    "    global start_time\n",
    "    \n",
    "    elapsed_time = time() - start_time\n",
    "\n",
    "    if elapsed_time > 0.1:\n",
    "        start_time = time()\n",
    "        x_canvas, y_canvas = convert_xy_units(msg.x, msg.y)\n",
    "        move_turtle(turtle_canvas, water_canvas, x_canvas, y_canvas, msg.theta)\n",
    "        "
   ]
  },
  {
   "cell_type": "code",
   "execution_count": 19,
   "id": "0546c2c7",
   "metadata": {},
   "outputs": [
    {
     "data": {
      "application/vnd.jupyter.widget-view+json": {
       "model_id": "9b28c0e833eb4437a15397d0dfd6ab40",
       "version_major": 2,
       "version_minor": 0
      },
      "text/plain": [
       "VBox(children=(HBox(children=(Button(description='Stop', style=ButtonStyle()),)), Output(layout=Layout(border=…"
      ]
     },
     "metadata": {},
     "output_type": "display_data"
    }
   ],
   "source": [
    "# rospy.init_node('listen')\n",
    "\n",
    "jupyros.subscribe(topic_name, Pose, lambda msg: callback_pose(msg))"
   ]
  }
 ],
 "metadata": {
  "kernelspec": {
   "display_name": "Python 3 (ipykernel)",
   "language": "python",
   "name": "python3"
  },
  "language_info": {
   "codemirror_mode": {
    "name": "ipython",
    "version": 3
   },
   "file_extension": ".py",
   "mimetype": "text/x-python",
   "name": "python",
   "nbconvert_exporter": "python",
   "pygments_lexer": "ipython3",
   "version": "3.9.12"
  }
 },
 "nbformat": 4,
 "nbformat_minor": 5
}
