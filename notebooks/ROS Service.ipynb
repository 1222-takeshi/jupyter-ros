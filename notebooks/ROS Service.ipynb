{
 "cells": [
  {
   "cell_type": "code",
   "execution_count": null,
   "id": "3b12ee9d",
   "metadata": {},
   "outputs": [],
   "source": [
    "%load_ext autoreload\n",
    "%autoreload 2"
   ]
  },
  {
   "cell_type": "code",
   "execution_count": 27,
   "id": "7259a8b6",
   "metadata": {},
   "outputs": [],
   "source": [
    "import jupyros\n",
    "import rospy\n",
    "import rospkg\n",
    "from rospy_tutorials.srv import AddTwoInts, AddTwoIntsResponse\n",
    "from turtlesim.srv import Spawn\n",
    "from random import randint\n",
    "from math import radians\n",
    "from ipywidgets import Image\n",
    "from ipycanvas import hold_canvas, Canvas"
   ]
  },
  {
   "cell_type": "markdown",
   "id": "2572b8ea",
   "metadata": {},
   "source": [
    "# Add Two Ints"
   ]
  },
  {
   "cell_type": "code",
   "execution_count": 3,
   "id": "e2d89970",
   "metadata": {},
   "outputs": [],
   "source": [
    "rospy.init_node(\"adder\")"
   ]
  },
  {
   "cell_type": "code",
   "execution_count": 4,
   "id": "8725d5f8",
   "metadata": {},
   "outputs": [],
   "source": [
    "def handle_add_two_ints(req):\n",
    "    print(\"Returning [%s + %s = %s]\"%(req.a, req.b, (req.a + req.b)))\n",
    "    return AddTwoIntsResponse(req.a + req.b)"
   ]
  },
  {
   "cell_type": "code",
   "execution_count": 5,
   "id": "f218a9a6",
   "metadata": {},
   "outputs": [
    {
     "data": {
      "application/vnd.jupyter.widget-view+json": {
       "model_id": "bebadfc1a55e4e92bffb786b8b18fb28",
       "version_major": 2,
       "version_minor": 0
      },
      "text/plain": [
       "Output(layout=Layout(border='1px solid gray'))"
      ]
     },
     "metadata": {},
     "output_type": "display_data"
    }
   ],
   "source": [
    "%%thread_cell\n",
    "\n",
    "srv = rospy.Service('add_two_ints', AddTwoInts, handle_add_two_ints)"
   ]
  },
  {
   "cell_type": "code",
   "execution_count": 6,
   "id": "cc3df77b",
   "metadata": {},
   "outputs": [
    {
     "data": {
      "application/vnd.jupyter.widget-view+json": {
       "model_id": "2ac14552906046388c7e600a85323abb",
       "version_major": 2,
       "version_minor": 0
      },
      "text/plain": [
       "VBox(children=(HBox(children=(Label(value='a', layout=Layout(width='100px')), IntText(value=0))), HBox(childre…"
      ]
     },
     "metadata": {},
     "output_type": "display_data"
    }
   ],
   "source": [
    "jupyros.client('add_two_ints', AddTwoInts)"
   ]
  },
  {
   "cell_type": "markdown",
   "id": "fdc0622f",
   "metadata": {},
   "source": [
    "# Turtlesim"
   ]
  },
  {
   "cell_type": "code",
   "execution_count": 7,
   "id": "0b94e2ad",
   "metadata": {},
   "outputs": [],
   "source": [
    "# !rosrun turtlesim turtlesim_node"
   ]
  },
  {
   "cell_type": "code",
   "execution_count": null,
   "id": "539a6cac",
   "metadata": {},
   "outputs": [],
   "source": [
    "jupyros.client('spawn', Spawn)"
   ]
  },
  {
   "cell_type": "code",
   "execution_count": 70,
   "id": "59074ca8",
   "metadata": {},
   "outputs": [],
   "source": [
    "def get_random_turtle():\n",
    "    turtles_svg = ['hydro', 'indigo', 'kinetic', 'lunar']\n",
    "    turtles_png = ['box-turtle', 'diamondback', 'electric', 'fuerte', 'groovy', 'hydro', 'indigo', 'jade',\n",
    "                   'kinetic', 'lunar', 'melodic', 'noetic', 'robot-turtle', 'sea-turtle', 'turtle']\n",
    "    \n",
    "    # Find path to a random turtle image\n",
    "    r = rospkg.RosPack()\n",
    "    turtlesim_path = r.get_path('turtlesim')\n",
    "    turtle_path = turtlesim_path + '/images/' + turtles_png[randint(0, len(turtles_png)-1)] + '.png'\n",
    "\n",
    "    turtle_img = Image.from_file(turtle_path)\n",
    "\n",
    "    return turtle_img\n",
    "\n",
    "\n",
    "def spawn_turtle(spawn_canvas):\n",
    "    turtle_img = get_random_turtle()\n",
    "    \n",
    "    # Center of canvas\n",
    "    x = spawn_canvas.width // 2\n",
    "    y = spawn_canvas.height // 2\n",
    "    \n",
    "    spawn_canvas.draw_image(turtle_img, x, y, width=100)\n",
    "\n",
    "    return spawn_canvas"
   ]
  },
  {
   "cell_type": "code",
   "execution_count": 12,
   "id": "74f44989",
   "metadata": {},
   "outputs": [
    {
     "name": "stdout",
     "output_type": "stream",
     "text": [
      "rosout\n"
     ]
    }
   ],
   "source": [
    "import rostopic\n",
    "\n",
    "pubs, _ = rostopic.get_topic_list()\n",
    "pubs\n",
    "\n",
    "# Retrieve name of last turtle spawned\n",
    "last_turtle = pubs[-1][0].split('/')[1]\n",
    "print(last_turtle)"
   ]
  },
  {
   "cell_type": "code",
   "execution_count": 32,
   "id": "7ff86810",
   "metadata": {},
   "outputs": [
    {
     "data": {
      "application/vnd.jupyter.widget-view+json": {
       "model_id": "492ebee42b4b42989b3f08ea44678b00",
       "version_major": 2,
       "version_minor": 0
      },
      "text/plain": [
       "Canvas(height=1200, layout=Layout(width='100%'), width=1600)"
      ]
     },
     "metadata": {},
     "output_type": "display_data"
    }
   ],
   "source": [
    "canvas = Canvas(width=1600, height=1200, layout=dict(width=\"100%\"))\n",
    "display(canvas)\n",
    "\n",
    "\n",
    "# Water\n",
    "canvas.fill_style = \"#4556FF\"\n",
    "canvas.fill_rect(0, 0, canvas.width, canvas.height)\n",
    "\n",
    "with hold_canvas(canvas):\n",
    "    for _ in range(20):\n",
    "        turtle_width = 90\n",
    "        x_pos = randint(0, canvas.width-1)\n",
    "        y_pos = randint(0, canvas.height-1)\n",
    "        theta = radians(90)\n",
    "\n",
    "        turtle_img = get_random_turtle()\n",
    "        \n",
    "        canvas.translate(x_pos, y_pos)\n",
    "        canvas.rotate(-theta)\n",
    "\n",
    "        canvas.draw_image(turtle_img, width=turtle_width)\n",
    "        \n",
    "        canvas.rotate(theta)\n",
    "        canvas.translate(-x_pos, -y_pos)\n"
   ]
  },
  {
   "cell_type": "markdown",
   "id": "a26e997d",
   "metadata": {},
   "source": [
    "### Spawn turtle"
   ]
  },
  {
   "cell_type": "code",
   "execution_count": 69,
   "id": "1fa01798",
   "metadata": {},
   "outputs": [
    {
     "data": {
      "application/vnd.jupyter.widget-view+json": {
       "model_id": "042318758bc8422eb8b94aba40010757",
       "version_major": 2,
       "version_minor": 0
      },
      "text/plain": [
       "Canvas(height=1200, layout=Layout(width='100%'), width=1600)"
      ]
     },
     "metadata": {},
     "output_type": "display_data"
    }
   ],
   "source": [
    "canvas = Canvas(width=1600, height=1200, layout=dict(width=\"100%\"))\n",
    "display(canvas)\n",
    "\n",
    "# Water\n",
    "canvas.fill_style = \"#4556FF\"\n",
    "canvas.fill_rect(0, 0, canvas.width, canvas.height)\n",
    "\n",
    "canvas = spawn_turtle(canvas)"
   ]
  },
  {
   "cell_type": "code",
   "execution_count": 24,
   "id": "d38627f6",
   "metadata": {},
   "outputs": [],
   "source": [
    "from time import sleep\n",
    "\n",
    "# Number of steps in your animation\n",
    "steps_number = 200\n",
    "\n",
    "offscreen_canvas = Canvas(width=100, height=100)\n",
    "offscreen_canvas.draw_image(turtle_img, width=100)\n",
    "\n",
    "for i in range(steps_number):\n",
    "    with hold_canvas(canvas):\n",
    "        # Clear the old animation step\n",
    "        canvas.clear()\n",
    "\n",
    "        # Perfom all your drawings here\n",
    "        canvas.fill_style = '#4556FF'\n",
    "        canvas.fill_rect(0, 0, canvas.width, canvas.height)\n",
    "\n",
    "        # canvas.fill_style = 'green'\n",
    "        # canvas.fill_circle(x_pos+i, y_pos-i, 30)\n",
    "        canvas.draw_image(offscreen_canvas, x_pos+i, y_pos-i, width=turtle_width)\n",
    "\n",
    "    # Animation frequency ~50Hz = 1000./50. milliseconds\n",
    "    sleep(0.02)"
   ]
  },
  {
   "cell_type": "code",
   "execution_count": 14,
   "id": "3cfc1340",
   "metadata": {},
   "outputs": [
    {
     "data": {
      "application/vnd.jupyter.widget-view+json": {
       "model_id": "610e8d3a5a7d4419a7f968bc2b229948",
       "version_major": 2,
       "version_minor": 0
      },
      "text/plain": [
       "MultiCanvas(height=1200, layout=Layout(width='100%'), width=1600)"
      ]
     },
     "metadata": {},
     "output_type": "display_data"
    }
   ],
   "source": [
    "from ipycanvas import hold_canvas, MultiCanvas\n",
    "\n",
    "canvas = MultiCanvas(width=1600, height=1200, layout=dict(width=\"100%\"))\n",
    "display(canvas)\n",
    "\n",
    "\n",
    "# Water\n",
    "canvas[0].fill_style = \"#4556FF\"\n",
    "canvas[0].fill_rect(0, 0, canvas.width, canvas.height)\n",
    "\n",
    "turtle_width = 90\n",
    "x_pos = canvas.width // 2 - turtle_width // 2\n",
    "y_pos = canvas.height // 2 - turtle_width // 2\n",
    "theta = 0\n",
    "turtle_img = get_random_turtle()\n",
    "\n",
    "canvas[1].draw_image(turtle_img, x=x_pos, y=y_pos, width=turtle_width)\n"
   ]
  },
  {
   "cell_type": "code",
   "execution_count": null,
   "id": "031973e9",
   "metadata": {},
   "outputs": [],
   "source": [
    "from geometry_msgs.msg import Twist\n",
    "\n",
    "topic_name = '/turtle1/cmd_vel'\n",
    "\n",
    "jupyros.publish(topic_name, Twist)"
   ]
  },
  {
   "cell_type": "markdown",
   "id": "f0050a93",
   "metadata": {},
   "source": [
    "# Moving turtle animation"
   ]
  },
  {
   "cell_type": "code",
   "execution_count": 15,
   "id": "ca12583a",
   "metadata": {},
   "outputs": [],
   "source": [
    "from time import sleep\n",
    "\n",
    "# Number of steps in your animation\n",
    "steps_number = 200\n",
    "\n",
    "# Note how `hold_canvas` now wraps the entire for-loop\n",
    "for i in range(steps_number):\n",
    "    with hold_canvas(canvas):\n",
    "        # Clear the old animation step\n",
    "        canvas[1].clear()\n",
    "\n",
    "        # Perfom all your drawings here\n",
    "#         canvas.fill_rect(0, 0, canvas.width, canvas.height)\n",
    "        canvas[1].draw_image(turtle_img, x_pos+i, y_pos-i, width=turtle_width)\n",
    "\n",
    "        # Animation frequency ~50Hz = 1000./50. milliseconds\n",
    "        sleep(.02)"
   ]
  },
  {
   "cell_type": "code",
   "execution_count": 16,
   "id": "7fde8e00",
   "metadata": {},
   "outputs": [
    {
     "ename": "AttributeError",
     "evalue": "'MultiCanvas' object has no attribute 'fill_rect'",
     "output_type": "error",
     "traceback": [
      "\u001b[0;31m---------------------------------------------------------------------------\u001b[0m",
      "\u001b[0;31mAttributeError\u001b[0m                            Traceback (most recent call last)",
      "Input \u001b[0;32mIn [16]\u001b[0m, in \u001b[0;36m<cell line: 9>\u001b[0;34m()\u001b[0m\n\u001b[1;32m     14\u001b[0m \u001b[38;5;66;03m# Perfom all your drawings here\u001b[39;00m\n\u001b[1;32m     15\u001b[0m canvas\u001b[38;5;241m.\u001b[39mfill_style \u001b[38;5;241m=\u001b[39m \u001b[38;5;124m'\u001b[39m\u001b[38;5;124m#4556FF\u001b[39m\u001b[38;5;124m'\u001b[39m\n\u001b[0;32m---> 16\u001b[0m \u001b[43mcanvas\u001b[49m\u001b[38;5;241;43m.\u001b[39;49m\u001b[43mfill_rect\u001b[49m(\u001b[38;5;241m0\u001b[39m, \u001b[38;5;241m0\u001b[39m, canvas\u001b[38;5;241m.\u001b[39mwidth, canvas\u001b[38;5;241m.\u001b[39mheight)\n\u001b[1;32m     18\u001b[0m \u001b[38;5;66;03m# canvas.fill_style = 'green'\u001b[39;00m\n\u001b[1;32m     19\u001b[0m \u001b[38;5;66;03m# canvas.fill_circle(x_pos+i, y_pos-i, 30)\u001b[39;00m\n\u001b[1;32m     20\u001b[0m canvas\u001b[38;5;241m.\u001b[39mdraw_image(offscreen_canvas, x_pos\u001b[38;5;241m+\u001b[39mi, y_pos\u001b[38;5;241m-\u001b[39mi, width\u001b[38;5;241m=\u001b[39mturtle_width)\n",
      "File \u001b[0;32m~/Robots/miniconda3/envs/quantjupy/lib/python3.9/site-packages/ipycanvas/canvas.py:1614\u001b[0m, in \u001b[0;36mMultiCanvas.__getattr__\u001b[0;34m(self, name)\u001b[0m\n\u001b[1;32m   1611\u001b[0m \u001b[38;5;28;01mif\u001b[39;00m name \u001b[38;5;129;01min\u001b[39;00m (\u001b[38;5;124m\"\u001b[39m\u001b[38;5;124mcaching\u001b[39m\u001b[38;5;124m\"\u001b[39m, \u001b[38;5;124m\"\u001b[39m\u001b[38;5;124mwidth\u001b[39m\u001b[38;5;124m\"\u001b[39m, \u001b[38;5;124m\"\u001b[39m\u001b[38;5;124mheight\u001b[39m\u001b[38;5;124m\"\u001b[39m):\n\u001b[1;32m   1612\u001b[0m     \u001b[38;5;28;01mreturn\u001b[39;00m \u001b[38;5;28mgetattr\u001b[39m(\u001b[38;5;28mself\u001b[39m\u001b[38;5;241m.\u001b[39m_canvases[\u001b[38;5;241m0\u001b[39m], name)\n\u001b[0;32m-> 1614\u001b[0m \u001b[38;5;28;01mraise\u001b[39;00m \u001b[38;5;167;01mAttributeError\u001b[39;00m(\u001b[38;5;124mf\u001b[39m\u001b[38;5;124m\"\u001b[39m\u001b[38;5;124m'\u001b[39m\u001b[38;5;124mMultiCanvas\u001b[39m\u001b[38;5;124m'\u001b[39m\u001b[38;5;124m object has no attribute \u001b[39m\u001b[38;5;124m'\u001b[39m\u001b[38;5;132;01m{\u001b[39;00mname\u001b[38;5;132;01m}\u001b[39;00m\u001b[38;5;124m'\u001b[39m\u001b[38;5;124m\"\u001b[39m)\n",
      "\u001b[0;31mAttributeError\u001b[0m: 'MultiCanvas' object has no attribute 'fill_rect'"
     ]
    }
   ],
   "source": []
  }
 ],
 "metadata": {
  "kernelspec": {
   "display_name": "Python 3 (ipykernel)",
   "language": "python",
   "name": "python3"
  },
  "language_info": {
   "codemirror_mode": {
    "name": "ipython",
    "version": 3
   },
   "file_extension": ".py",
   "mimetype": "text/x-python",
   "name": "python",
   "nbconvert_exporter": "python",
   "pygments_lexer": "ipython3",
   "version": "3.9.12"
  }
 },
 "nbformat": 4,
 "nbformat_minor": 5
}
